{
 "cells": [
  {
   "cell_type": "markdown",
   "id": "3ba31b61-2a13-4e99-bd64-46774ccfd165",
   "metadata": {},
   "source": [
    "Q1. Create a python program to sort the given list of tuples based on integer value using a\n",
    "lambda function.\n",
    "[('Sachin Tendulkar', 34357), ('Ricky Ponting', 27483), ('Jack Kallis', 25534), ('Virat Kohli', 24936)]"
   ]
  },
  {
   "cell_type": "code",
   "execution_count": 1,
   "id": "acae27a8-0e94-46eb-81c9-fa3f3ce69f0b",
   "metadata": {},
   "outputs": [],
   "source": [
    "lo=[('Sachin Tendulkar', 34357), ('Ricky Ponting', 27483), ('Jack Kallis', 25534), ('Virat Kohli', 24936)]"
   ]
  },
  {
   "cell_type": "code",
   "execution_count": 35,
   "id": "84c0f777-3371-45ec-9121-1c37bb06b823",
   "metadata": {},
   "outputs": [],
   "source": [
    "kk=list(sorted(lo, key = lambda x:x[0]))"
   ]
  },
  {
   "cell_type": "code",
   "execution_count": 36,
   "id": "1ec32a4a-ca07-49f4-8c67-d6143b39cf35",
   "metadata": {},
   "outputs": [],
   "source": [
    "ll=[item[0] for item in kk]"
   ]
  },
  {
   "cell_type": "code",
   "execution_count": 37,
   "id": "a747087b-ffc5-471f-a693-61f9922dfa31",
   "metadata": {},
   "outputs": [
    {
     "name": "stdout",
     "output_type": "stream",
     "text": [
      "['Jack Kallis', 'Ricky Ponting', 'Sachin Tendulkar', 'Virat Kohli']\n"
     ]
    }
   ],
   "source": [
    "print(ll)"
   ]
  },
  {
   "cell_type": "markdown",
   "id": "44e49397-46c4-44a1-a859-a58b14d3f4e5",
   "metadata": {},
   "source": [
    ":)"
   ]
  },
  {
   "cell_type": "markdown",
   "id": "e99857eb-cb84-4002-84d8-3313b01f918f",
   "metadata": {},
   "source": [
    "Q2. Write a Python Program to find the squares of all the numbers in the given list of integers using\n",
    "lambda and map functions.\n",
    "[1, 2, 3, 4, 5, 6, 7, 8, 9, 10]"
   ]
  },
  {
   "cell_type": "code",
   "execution_count": 38,
   "id": "fdcabb92-a5f3-4c98-80b0-11922d299b68",
   "metadata": {},
   "outputs": [],
   "source": [
    "lil=[1, 2, 3, 4, 5, 6, 7, 8, 9, 10]"
   ]
  },
  {
   "cell_type": "code",
   "execution_count": 39,
   "id": "fab9d35d-e190-4e23-b7f9-ce384ac0722f",
   "metadata": {},
   "outputs": [
    {
     "data": {
      "text/plain": [
       "[1, 4, 9, 16, 25, 36, 49, 64, 81, 100]"
      ]
     },
     "execution_count": 39,
     "metadata": {},
     "output_type": "execute_result"
    }
   ],
   "source": [
    "list(map(lambda x:x**2,lil))"
   ]
  },
  {
   "cell_type": "code",
   "execution_count": null,
   "id": "860ab73f-7b17-444b-bfa7-9018a8669a85",
   "metadata": {},
   "outputs": [],
   "source": []
  },
  {
   "cell_type": "markdown",
   "id": "37ed36a9-e15e-49e2-bf25-5af408f79784",
   "metadata": {},
   "source": [
    "Q3. Write a python program to convert the given list of integers into a tuple of strings. Use map and\n",
    "lambda functions\n",
    "Given String: [1, 2, 3, 4, 5, 6, 7, 8, 9, 10]\n",
    "Expected output: ('1', '2', '3', '4', '5', '6', '7', '8', '9', '10')"
   ]
  },
  {
   "cell_type": "code",
   "execution_count": 46,
   "id": "a68592a4-725c-4036-ba7e-95c9131c6552",
   "metadata": {},
   "outputs": [],
   "source": [
    "gs=[1, 2, 3, 4, 5, 6, 7, 8, 9, 10]\n"
   ]
  },
  {
   "cell_type": "code",
   "execution_count": 47,
   "id": "318768a4-e167-44f3-9a37-ed86d868e56a",
   "metadata": {},
   "outputs": [
    {
     "data": {
      "text/plain": [
       "('1', '2', '3', '4', '5', '6', '7', '8', '9', '10')"
      ]
     },
     "execution_count": 47,
     "metadata": {},
     "output_type": "execute_result"
    }
   ],
   "source": [
    "tuple(map(lambda x:str(x),gs))"
   ]
  },
  {
   "cell_type": "code",
   "execution_count": null,
   "id": "2ca8951b-ad35-4e0c-b078-7f53b39343e6",
   "metadata": {},
   "outputs": [],
   "source": []
  },
  {
   "cell_type": "markdown",
   "id": "3258866f-bc6b-4962-b3a2-f70bea701fc3",
   "metadata": {},
   "source": [
    "Q4. Write a python program using reduce function to compute the product of a list containing numbers\n",
    "from 1 to 25."
   ]
  },
  {
   "cell_type": "code",
   "execution_count": 50,
   "id": "e580af6a-73c8-4ecf-a261-4b018afe493d",
   "metadata": {},
   "outputs": [],
   "source": [
    "hh=list(range(1,26))"
   ]
  },
  {
   "cell_type": "code",
   "execution_count": 52,
   "id": "a9de1ee4-1f94-44aa-bcea-356e1991d6fe",
   "metadata": {},
   "outputs": [],
   "source": [
    "from functools import reduce"
   ]
  },
  {
   "cell_type": "code",
   "execution_count": 54,
   "id": "eb892cd6-fb17-4078-8e02-3504e1e0bf81",
   "metadata": {},
   "outputs": [
    {
     "data": {
      "text/plain": [
       "15511210043330985984000000"
      ]
     },
     "execution_count": 54,
     "metadata": {},
     "output_type": "execute_result"
    }
   ],
   "source": [
    "reduce(lambda x,y:x*y,hh)"
   ]
  },
  {
   "cell_type": "code",
   "execution_count": null,
   "id": "686ecee1-0642-454c-9598-c4fbe5d4a25c",
   "metadata": {},
   "outputs": [],
   "source": [
    "        "
   ]
  },
  {
   "cell_type": "markdown",
   "id": "6619f9f7-0415-4fa3-81e3-244db50db6fb",
   "metadata": {},
   "source": [
    "Q5. Write a python program to filter the numbers in a given list that are divisible by 2 and 3 using the\n",
    "filter function.\n",
    "[2, 3, 6, 9, 27, 60, 90, 120, 55, 46]"
   ]
  },
  {
   "cell_type": "code",
   "execution_count": 55,
   "id": "7bbaf4e7-ca44-4a9e-af35-1e6ee8257c48",
   "metadata": {},
   "outputs": [],
   "source": [
    "ff=[2, 3, 6, 9, 27, 60, 90, 120, 55, 46]"
   ]
  },
  {
   "cell_type": "code",
   "execution_count": 61,
   "id": "8e34d45c-272f-47e3-87ed-a5b1f07a3df7",
   "metadata": {},
   "outputs": [
    {
     "data": {
      "text/plain": [
       "[6, 60, 90, 120]"
      ]
     },
     "execution_count": 61,
     "metadata": {},
     "output_type": "execute_result"
    }
   ],
   "source": [
    "list(filter(lambda x: x % 2 == 0 and x % 3 == 0,ff))"
   ]
  },
  {
   "cell_type": "code",
   "execution_count": null,
   "id": "21daf790-2549-43c3-8b2f-37b3df5f757c",
   "metadata": {},
   "outputs": [],
   "source": []
  },
  {
   "cell_type": "markdown",
   "id": "411d0362-e02c-40a9-bf06-0dc5dea0face",
   "metadata": {},
   "source": [
    "Q6. Write a python program to find palindromes in the given list of strings using lambda and filter\n",
    "function.\n",
    "['python', 'php', 'aba', 'radar', 'level']"
   ]
  },
  {
   "cell_type": "code",
   "execution_count": 62,
   "id": "42a22a58-402f-4fca-898c-0c0317f719cc",
   "metadata": {},
   "outputs": [],
   "source": [
    "word=['python', 'php', 'aba', 'radar', 'level']"
   ]
  },
  {
   "cell_type": "code",
   "execution_count": 63,
   "id": "ac3181e5-9df1-45c3-89ec-f67841e77923",
   "metadata": {},
   "outputs": [
    {
     "data": {
      "text/plain": [
       "['php', 'aba', 'radar', 'level']"
      ]
     },
     "execution_count": 63,
     "metadata": {},
     "output_type": "execute_result"
    }
   ],
   "source": [
    "list(filter(lambda x:x==x[::-1],word))"
   ]
  },
  {
   "cell_type": "code",
   "execution_count": null,
   "id": "7c9bbe72-c02f-4320-a906-9566d1f9ba3e",
   "metadata": {},
   "outputs": [],
   "source": []
  }
 ],
 "metadata": {
  "kernelspec": {
   "display_name": "Python 3 (ipykernel)",
   "language": "python",
   "name": "python3"
  },
  "language_info": {
   "codemirror_mode": {
    "name": "ipython",
    "version": 3
   },
   "file_extension": ".py",
   "mimetype": "text/x-python",
   "name": "python",
   "nbconvert_exporter": "python",
   "pygments_lexer": "ipython3",
   "version": "3.10.8"
  }
 },
 "nbformat": 4,
 "nbformat_minor": 5
}
